{
  "nbformat": 4,
  "nbformat_minor": 0,
  "metadata": {
    "colab": {
      "name": "Lasso-elasticNet.ipynb",
      "provenance": [],
      "authorship_tag": "ABX9TyO5dY8IHpPy4fbTA971K2Li",
      "include_colab_link": true
    },
    "kernelspec": {
      "name": "python3",
      "display_name": "Python 3"
    },
    "language_info": {
      "name": "python"
    }
  },
  "cells": [
    {
      "cell_type": "markdown",
      "metadata": {
        "id": "view-in-github",
        "colab_type": "text"
      },
      "source": [
        "<a href=\"https://colab.research.google.com/github/xkrishnam/notebooks/blob/main/Lasso_elasticNet.ipynb\" target=\"_parent\"><img src=\"https://colab.research.google.com/assets/colab-badge.svg\" alt=\"Open In Colab\"/></a>"
      ]
    },
    {
      "cell_type": "markdown",
      "source": [
        "# Choose Estimator"
      ],
      "metadata": {
        "id": "wz86qz-aN446"
      }
    },
    {
      "cell_type": "code",
      "execution_count": null,
      "metadata": {
        "colab": {
          "base_uri": "https://localhost:8080/"
        },
        "id": "pcDeH97BNSZ4",
        "outputId": "e89a0c33-3322-4c73-9398-7f519bdc086b"
      },
      "outputs": [
        {
          "output_type": "stream",
          "name": "stdout",
          "text": [
            "train X shape (17000, 8) and training label shape (17000,)\n",
            "test data shape (3000, 8) and test label shape (3000,)\n"
          ]
        }
      ],
      "source": [
        "import numpy as np\n",
        "import pandas as pd\n",
        "from sklearn.pipeline import Pipeline\n",
        "from sklearn.preprocessing import StandardScaler\n",
        "\n",
        "df = pd.read_csv(\"sample_data/california_housing_train.csv\") # read training data\n",
        "htrain_x_df = df.drop(\"median_house_value\" ,axis = 1)\n",
        "htrain_y = df[\"median_house_value\"].copy()\n",
        "#prepare training data\n",
        "num_pipeline = Pipeline([\n",
        " ('std_scaler', StandardScaler()),\n",
        " ])\n",
        "num_pipe_fit = num_pipeline.fit(htrain_x_df)\n",
        "htrain_x = num_pipe_fit.transform(htrain_x_df)\n",
        "\n",
        "print(\"train X shape {} and training label shape {}\".format(htrain_x.shape,htrain_y.shape))\n",
        "\n",
        "# Load and prepare test data\n",
        "dft = pd.read_csv(\"sample_data/california_housing_test.csv\") # read training data\n",
        "htest_x_df = dft.drop(\"median_house_value\" ,axis = 1)\n",
        "htest_y = dft[\"median_house_value\"].copy()\n",
        "htest_x = num_pipe_fit.transform(htest_x_df)\n",
        "print(\"test data shape {} and test label shape {}\".format(htest_x.shape,htest_y.shape))"
      ]
    },
    {
      "cell_type": "markdown",
      "source": [
        "## Lasso"
      ],
      "metadata": {
        "id": "JSyH7TvsN0fy"
      }
    },
    {
      "cell_type": "code",
      "source": [
        "from sklearn.linear_model import Lasso\n",
        "from sklearn.metrics import mean_squared_error\n",
        "\n",
        "lesso = Lasso()\n",
        "lesso.fit(htrain_x , htrain_y)\n",
        "\n",
        "# errorcalc on test data\n",
        "housing_predictions = lesso.predict(htest_x)\n",
        "housing_predictions = np.clip(housing_predictions,a_min=14999,a_max=500001)\n",
        "lesso_mse = mean_squared_error(htest_y, housing_predictions)\n",
        "lesso_rmse = np.sqrt(lesso_mse)\n",
        "lesso_rmse"
      ],
      "metadata": {
        "colab": {
          "base_uri": "https://localhost:8080/"
        },
        "id": "Hm93u10-NllA",
        "outputId": "99d91120-b664-4161-a010-6b6b17f120bd"
      },
      "execution_count": null,
      "outputs": [
        {
          "output_type": "execute_result",
          "data": {
            "text/plain": [
              "68155.20070053297"
            ]
          },
          "metadata": {},
          "execution_count": 3
        }
      ]
    },
    {
      "cell_type": "code",
      "source": [
        "from sklearn.linear_model import LassoCV\n",
        "reg = LassoCV(cv=5, random_state=0).fit(htrain_x , htrain_y)\n",
        "reg.score(htrain_x , htrain_y)\n",
        "\n",
        "# errorcalc on test data\n",
        "housing_predictions = reg.predict(htest_x)\n",
        "housing_predictions = np.clip(housing_predictions,a_min=14999,a_max=500001)\n",
        "lesso_mse = mean_squared_error(htest_y, housing_predictions)\n",
        "lesso_rmse = np.sqrt(lesso_mse)\n",
        "lesso_rmse"
      ],
      "metadata": {
        "colab": {
          "base_uri": "https://localhost:8080/"
        },
        "id": "aeJF9azqOG6C",
        "outputId": "a71e52cd-34d6-4c98-8e2e-d0c1b795ef4f"
      },
      "execution_count": null,
      "outputs": [
        {
          "output_type": "execute_result",
          "data": {
            "text/plain": [
              "68221.34682243525"
            ]
          },
          "metadata": {},
          "execution_count": 6
        }
      ]
    },
    {
      "cell_type": "code",
      "source": [
        "from sklearn.linear_model import LassoLarsCV\n",
        "reg1 = LassoLarsCV(cv=5, normalize=False).fit(htrain_x , htrain_y)\n",
        "reg1.score(htrain_x , htrain_y)\n",
        "\n",
        "# errorcalc on test data\n",
        "housing_predictions = reg1.predict(htest_x)\n",
        "housing_predictions = np.clip(housing_predictions,a_min=14999,a_max=500001)\n",
        "lesso_mse = mean_squared_error(htest_y, housing_predictions)\n",
        "lesso_rmse = np.sqrt(lesso_mse)\n",
        "lesso_rmse"
      ],
      "metadata": {
        "colab": {
          "base_uri": "https://localhost:8080/"
        },
        "id": "Fvhdi6yzQ9pX",
        "outputId": "c6dd5aeb-80c0-4aec-dd26-bd85012cfd76"
      },
      "execution_count": null,
      "outputs": [
        {
          "output_type": "execute_result",
          "data": {
            "text/plain": [
              "68154.65531646166"
            ]
          },
          "metadata": {},
          "execution_count": 7
        }
      ]
    },
    {
      "cell_type": "markdown",
      "source": [
        "LassoLarsIC"
      ],
      "metadata": {
        "id": "Tjz_L9soTA8t"
      }
    },
    {
      "cell_type": "code",
      "source": [
        "from sklearn.linear_model import LassoLarsCV\n",
        "from sklearn.metrics import mean_squared_error\n",
        "\n",
        "lessoLarsCV = LassoLarsCV()\n",
        "lessoLarsCV.fit(htrain_x , htrain_y)\n",
        "\n",
        "# errorcalc on test data\n",
        "housing_predictions = lessoLarsCV.predict(htest_x)\n",
        "housing_predictions = np.clip(housing_predictions,a_min=14999,a_max=500001)\n",
        "lessoLarsCV_mse = mean_squared_error(htest_y, housing_predictions)\n",
        "lessoLarsCV_rmse = np.sqrt(lessoLarsCV_mse)\n",
        "lessoLarsCV_rmse"
      ],
      "metadata": {
        "colab": {
          "base_uri": "https://localhost:8080/"
        },
        "id": "hGs6cY0ETLqT",
        "outputId": "f884d7e5-c46d-41ec-bd0e-64f9541cf88e"
      },
      "execution_count": null,
      "outputs": [
        {
          "output_type": "stream",
          "name": "stderr",
          "text": [
            "/usr/local/lib/python3.7/dist-packages/sklearn/linear_model/_base.py:138: FutureWarning: The default of 'normalize' will be set to False in version 1.2 and deprecated in version 1.4.\n",
            "If you wish to scale the data, use Pipeline with a StandardScaler in a preprocessing stage. To reproduce the previous behavior:\n",
            "\n",
            "from sklearn.pipeline import make_pipeline\n",
            "\n",
            "model = make_pipeline(StandardScaler(with_mean=False), LassoLarsCV())\n",
            "\n",
            "If you wish to pass a sample_weight parameter, you need to pass it as a fit parameter to each step of the pipeline as follows:\n",
            "\n",
            "kwargs = {s[0] + '__sample_weight': sample_weight for s in model.steps}\n",
            "model.fit(X, y, **kwargs)\n",
            "\n",
            "Set parameter alpha to: original_alpha * np.sqrt(n_samples). \n",
            "  FutureWarning,\n"
          ]
        },
        {
          "output_type": "execute_result",
          "data": {
            "text/plain": [
              "68154.65531646165"
            ]
          },
          "metadata": {},
          "execution_count": 8
        }
      ]
    },
    {
      "cell_type": "markdown",
      "source": [
        "## ElasticNet"
      ],
      "metadata": {
        "id": "zy1IJ78-eaYi"
      }
    },
    {
      "cell_type": "code",
      "source": [
        "from sklearn.linear_model import ElasticNet\n",
        "regrEN = ElasticNet()\n",
        "regrEN.fit(htrain_x , htrain_y)\n",
        "# errorcalc on test data\n",
        "housing_predictions =regrEN.predict(htest_x)\n",
        "housing_predictions = np.clip(housing_predictions,a_min=14999,a_max=500001)\n",
        "en_mse = mean_squared_error(htest_y, housing_predictions)\n",
        "en_rmse = np.sqrt(en_mse)\n",
        "en_rmse"
      ],
      "metadata": {
        "colab": {
          "base_uri": "https://localhost:8080/"
        },
        "id": "OhzTQ9eEUcfa",
        "outputId": "d5e55230-8a44-42bf-e19f-3c7e8f92585b"
      },
      "execution_count": null,
      "outputs": [
        {
          "output_type": "execute_result",
          "data": {
            "text/plain": [
              "81423.02648059193"
            ]
          },
          "metadata": {},
          "execution_count": 15
        }
      ]
    },
    {
      "cell_type": "code",
      "source": [
        "from sklearn.linear_model import ElasticNetCV\n",
        "regrEN = ElasticNetCV(cv=5, random_state=0)\n",
        "regrEN.fit(htrain_x , htrain_y)\n",
        "# errorcalc on test data\n",
        "housing_predictions =regrEN.predict(htest_x)\n",
        "housing_predictions = np.clip(housing_predictions,a_min=14999,a_max=500001)\n",
        "en_mse = mean_squared_error(htest_y, housing_predictions)\n",
        "en_rmse = np.sqrt(en_mse)\n",
        "en_rmse"
      ],
      "metadata": {
        "colab": {
          "base_uri": "https://localhost:8080/"
        },
        "id": "2_Py2qVSfwUP",
        "outputId": "166b3665-eb12-4f8b-9c55-1b73ef159e2a"
      },
      "execution_count": null,
      "outputs": [
        {
          "output_type": "execute_result",
          "data": {
            "text/plain": [
              "112379.632571205"
            ]
          },
          "metadata": {},
          "execution_count": 16
        }
      ]
    }
  ]
}