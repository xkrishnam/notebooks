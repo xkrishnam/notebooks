{
  "nbformat": 4,
  "nbformat_minor": 0,
  "metadata": {
    "colab": {
      "name": "descision_tree_regression_on_housing_data.ipynb",
      "provenance": [],
      "collapsed_sections": [],
      "authorship_tag": "ABX9TyPSui9aN0alDqhnaRy4eOsn",
      "include_colab_link": true
    },
    "kernelspec": {
      "name": "python3",
      "display_name": "Python 3"
    },
    "language_info": {
      "name": "python"
    }
  },
  "cells": [
    {
      "cell_type": "markdown",
      "metadata": {
        "id": "view-in-github",
        "colab_type": "text"
      },
      "source": [
        "<a href=\"https://colab.research.google.com/github/xkrishnam/notebooks/blob/main/descision_tree_regression_on_housing_data.ipynb\" target=\"_parent\"><img src=\"https://colab.research.google.com/assets/colab-badge.svg\" alt=\"Open In Colab\"/></a>"
      ]
    },
    {
      "cell_type": "markdown",
      "source": [
        "Decision tree regression with PCA for housing data"
      ],
      "metadata": {
        "id": "QqxnQOFUtYAk"
      }
    },
    {
      "cell_type": "code",
      "execution_count": 50,
      "metadata": {
        "id": "f-5lZMUEX1qW"
      },
      "outputs": [],
      "source": [
        "import numpy as np\n",
        "import pandas as pd"
      ]
    },
    {
      "cell_type": "code",
      "source": [
        "from sklearn.pipeline import Pipeline\n",
        "from sklearn.preprocessing import StandardScaler\n",
        "from sklearn.decomposition import PCA\n",
        "\n",
        "df = pd.read_csv(\"sample_data/california_housing_train.csv\") # read training data\n",
        "htrain_x_df = df.drop(\"median_house_value\" ,axis = 1)\n",
        "htrain_y = df[\"median_house_value\"].copy()\n",
        "#prepare training data\n",
        "num_pipeline = Pipeline([\n",
        " ('std_scaler', StandardScaler()),\n",
        " ('pca-reduce', PCA(n_components=7))\n",
        " ])\n",
        "htrain_x = num_pipeline.fit_transform(htrain_x_df)\n",
        "\n",
        "print(\"train X shape {} and training label shape {}\".format(htrain_x.shape,htrain_y.shape))"
      ],
      "metadata": {
        "colab": {
          "base_uri": "https://localhost:8080/"
        },
        "id": "qLWaxL3vYEGJ",
        "outputId": "2ef4a4bf-b2de-49b8-fb8f-54a24bfd4f3b"
      },
      "execution_count": 51,
      "outputs": [
        {
          "output_type": "stream",
          "name": "stdout",
          "text": [
            "train X shape (17000, 7) and training label shape (17000,)\n"
          ]
        }
      ]
    },
    {
      "cell_type": "code",
      "source": [
        "# Load and prepare test data\n",
        "df = pd.read_csv(\"sample_data/california_housing_test.csv\") # read training data\n",
        "htest_x_df = df.drop(\"median_house_value\" ,axis = 1)\n",
        "htest_y = df[\"median_house_value\"].copy()\n",
        "htest_x = num_pipeline.fit_transform(htest_x_df)\n",
        "print(\"test data shape {} and test label shape {}\".format(htest_x.shape,htest_y.shape))"
      ],
      "metadata": {
        "colab": {
          "base_uri": "https://localhost:8080/"
        },
        "id": "BuWf7jSEZQdt",
        "outputId": "fa8dd1fe-ccb9-4f8a-eefe-94f3a5fedf0c"
      },
      "execution_count": 52,
      "outputs": [
        {
          "output_type": "stream",
          "name": "stdout",
          "text": [
            "test data shape (3000, 7) and test label shape (3000,)\n"
          ]
        }
      ]
    },
    {
      "cell_type": "markdown",
      "source": [
        "# **Decision Tree**"
      ],
      "metadata": {
        "id": "nBM_McJIbhIQ"
      }
    },
    {
      "cell_type": "code",
      "source": [
        "from sklearn.tree import DecisionTreeRegressor\n",
        "from sklearn.metrics import mean_squared_error\n",
        "\n",
        "tree_reg = DecisionTreeRegressor()\n",
        "tree_reg.fit(htrain_x , htrain_y)\n",
        "\n",
        "# errorcalc on test data\n",
        "housing_predictions = tree_reg.predict(htest_x)\n",
        "tree_mse = mean_squared_error(htest_y, housing_predictions)\n",
        "tree_rmse = np.sqrt(tree_mse)\n",
        "tree_rmse"
      ],
      "metadata": {
        "colab": {
          "base_uri": "https://localhost:8080/"
        },
        "id": "-NybH6qxbrhY",
        "outputId": "d5c7566c-dc24-4eee-fa88-c03ce51dc6d2"
      },
      "execution_count": 53,
      "outputs": [
        {
          "output_type": "execute_result",
          "data": {
            "text/plain": [
              "124034.41950304896"
            ]
          },
          "metadata": {},
          "execution_count": 53
        }
      ]
    },
    {
      "cell_type": "code",
      "source": [
        "def display_scores (scores):\n",
        "    print(\"Scores:\", scores)\n",
        "    print(\"\\n Mean:\", scores.mean())\n",
        "    print(\"\\n Standard deviation:\", scores.std(),\"\\n\")\n",
        "    \n",
        "\n",
        "\n",
        "from sklearn.model_selection import cross_val_score\n",
        "\n",
        "scores = cross_val_score(tree_reg  , htest_x  , htest_y , scoring=\"neg_mean_squared_error\"  , cv = 10 )\n",
        "tree_rmse_scores  = np.sqrt(-scores)\n",
        "\n",
        "display_scores(tree_rmse_scores)"
      ],
      "metadata": {
        "colab": {
          "base_uri": "https://localhost:8080/"
        },
        "id": "dlbxvtFWczF3",
        "outputId": "d4bfdf03-b55d-4db5-d1c4-8245e20bf470"
      },
      "execution_count": 54,
      "outputs": [
        {
          "output_type": "stream",
          "name": "stdout",
          "text": [
            "Scores: [79019.8666836  88695.00980356 96497.21361112 95188.04288029\n",
            " 82411.2128053  81432.85872447 82360.97355793 91637.47682426\n",
            " 93059.97279919 74342.15977524]\n",
            "\n",
            " Mean: 86464.47874649534\n",
            "\n",
            " Standard deviation: 7162.051699375182 \n",
            "\n"
          ]
        }
      ]
    },
    {
      "cell_type": "code",
      "source": [
        "from sklearn import tree"
      ],
      "metadata": {
        "id": "T8vqIRuAG82N"
      },
      "execution_count": 55,
      "outputs": []
    },
    {
      "cell_type": "code",
      "source": [
        "tree.plot_tree(tree_reg, max_depth=2,fontsize=10)"
      ],
      "metadata": {
        "colab": {
          "base_uri": "https://localhost:8080/",
          "height": 520
        },
        "id": "g9j4u5rKJ_St",
        "outputId": "f081d6eb-89f3-45ef-c5be-8d7b8297ae15"
      },
      "execution_count": 56,
      "outputs": [
        {
          "output_type": "execute_result",
          "data": {
            "text/plain": [
              "[Text(0.5, 0.875, 'X[2] <= 0.961\\nsquared_error = 13451442293.569\\nsamples = 17000\\nvalue = 207300.912'),\n",
              " Text(0.25, 0.625, 'X[5] <= 0.055\\nsquared_error = 9835257604.811\\nsamples = 14418\\nvalue = 184226.812'),\n",
              " Text(0.125, 0.375, 'X[3] <= 0.574\\nsquared_error = 9884295099.644\\nsamples = 8622\\nvalue = 216122.088'),\n",
              " Text(0.0625, 0.125, '\\n  (...)  \\n'),\n",
              " Text(0.1875, 0.125, '\\n  (...)  \\n'),\n",
              " Text(0.375, 0.375, 'X[3] <= 1.234\\nsquared_error = 5997795556.212\\nsamples = 5796\\nvalue = 136780.111'),\n",
              " Text(0.3125, 0.125, '\\n  (...)  \\n'),\n",
              " Text(0.4375, 0.125, '\\n  (...)  \\n'),\n",
              " Text(0.75, 0.625, 'X[3] <= 0.437\\nsquared_error = 14069858221.335\\nsamples = 2582\\nvalue = 336147.692'),\n",
              " Text(0.625, 0.375, 'X[2] <= 2.048\\nsquared_error = 9643501662.388\\nsamples = 1674\\nvalue = 282528.369'),\n",
              " Text(0.5625, 0.125, '\\n  (...)  \\n'),\n",
              " Text(0.6875, 0.125, '\\n  (...)  \\n'),\n",
              " Text(0.875, 0.375, 'X[3] <= 1.122\\nsquared_error = 7157935627.372\\nsamples = 908\\nvalue = 435000.937'),\n",
              " Text(0.8125, 0.125, '\\n  (...)  \\n'),\n",
              " Text(0.9375, 0.125, '\\n  (...)  \\n')]"
            ]
          },
          "metadata": {},
          "execution_count": 56
        },
        {
          "output_type": "display_data",
          "data": {
            "image/png": "[encoded data removed]",
            "text/plain": [
              "<Figure size 432x288 with 1 Axes>"
            ]
          },
          "metadata": {
            "needs_background": "light"
          }
        }
      ]
    }
  ]
}