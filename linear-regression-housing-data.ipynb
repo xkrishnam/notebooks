{
  "nbformat": 4,
  "nbformat_minor": 0,
  "metadata": {
    "colab": {
      "name": "Untitled0.ipynb",
      "provenance": [],
      "collapsed_sections": [],
      "authorship_tag": "ABX9TyMh7yzqY2bb8Le24dkUJjWd",
      "include_colab_link": true
    },
    "kernelspec": {
      "name": "python3",
      "display_name": "Python 3"
    },
    "language_info": {
      "name": "python"
    }
  },
  "cells": [
    {
      "cell_type": "markdown",
      "metadata": {
        "id": "view-in-github",
        "colab_type": "text"
      },
      "source": [
        "<a href=\"https://colab.research.google.com/github/xkrishnam/notebooks/blob/main/linear-regression-housing-data.ipynb\" target=\"_parent\"><img src=\"https://colab.research.google.com/assets/colab-badge.svg\" alt=\"Open In Colab\"/></a>"
      ]
    },
    {
      "cell_type": "code",
      "execution_count": 1,
      "metadata": {
        "colab": {
          "base_uri": "https://localhost:8080/"
        },
        "id": "IgzJ4NjE0K60",
        "outputId": "691adabb-1a05-4f4e-92a2-0f1d7c0c8592"
      },
      "outputs": [
        {
          "output_type": "stream",
          "name": "stdout",
          "text": [
            "train X shape (17000, 8) and training label shape (17000,)\n",
            "test data shape (3000, 8) and test label shape (3000,)\n"
          ]
        }
      ],
      "source": [
        "import numpy as np\n",
        "import pandas as pd\n",
        "\n",
        "from sklearn.pipeline import Pipeline\n",
        "from sklearn.preprocessing import StandardScaler\n",
        "from sklearn.decomposition import PCA\n",
        "from sklearn.linear_model import LinearRegression\n",
        "\n",
        "df = pd.read_csv(\"sample_data/california_housing_train.csv\") # read training data\n",
        "htrain_x_df = df.drop(\"median_house_value\" ,axis = 1)\n",
        "htrain_y = df[\"median_house_value\"].copy()\n",
        "#prepare training data\n",
        "num_pipeline = Pipeline([\n",
        " ('std_scaler', StandardScaler()),\n",
        " #('pca-reduce', PCA(n_components=4)),\n",
        " ])\n",
        "htrain_x = num_pipeline.fit_transform(htrain_x_df)\n",
        "\n",
        "print(\"train X shape {} and training label shape {}\".format(htrain_x.shape,htrain_y.shape))\n",
        "\n",
        "# Load and prepare test data\n",
        "df = pd.read_csv(\"sample_data/california_housing_test.csv\") # read training data\n",
        "htest_x_df = df.drop(\"median_house_value\" ,axis = 1)\n",
        "htest_y = df[\"median_house_value\"].copy()\n",
        "htest_x = num_pipeline.fit_transform(htest_x_df)\n",
        "print(\"test data shape {} and test label shape {}\".format(htest_x.shape,htest_y.shape))"
      ]
    },
    {
      "cell_type": "code",
      "source": [
        "from sklearn.metrics import mean_squared_error\n",
        "\n",
        "lin_reg = LinearRegression()\n",
        "lin_reg.fit(htrain_x , htrain_y)\n",
        "\n",
        "# error calc on test data\n",
        "housing_predictions = lin_reg.predict(htest_x)\n",
        "tree_mse = mean_squared_error(htest_y, housing_predictions)\n",
        "tree_rmse = np.sqrt(tree_mse)\n",
        "tree_rmse"
      ],
      "metadata": {
        "colab": {
          "base_uri": "https://localhost:8080/"
        },
        "id": "orGktaOv2lt8",
        "outputId": "c2198bf4-16e0-4167-876b-1ef823c89e6b"
      },
      "execution_count": 2,
      "outputs": [
        {
          "output_type": "execute_result",
          "data": {
            "text/plain": [
              "69900.07529935485"
            ]
          },
          "metadata": {},
          "execution_count": 2
        }
      ]
    },
    {
      "cell_type": "code",
      "source": [
        "def display_scores (scores):\n",
        "    print(\"Scores:\", scores)\n",
        "    print(\"\\n Mean:\", scores.mean())\n",
        "    print(\"\\n Standard deviation:\", scores.std(),\"\\n\")\n",
        "    \n",
        "\n",
        "\n",
        "from sklearn.model_selection import cross_val_score\n",
        "\n",
        "scores = cross_val_score(lin_reg  , htest_x  , htest_y , scoring=\"neg_mean_squared_error\"  , cv = 10 )\n",
        "tree_rmse_scores  = np.sqrt(-scores)\n",
        "\n",
        "display_scores(tree_rmse_scores)"
      ],
      "metadata": {
        "colab": {
          "base_uri": "https://localhost:8080/"
        },
        "id": "BSkR_Xlp3vB8",
        "outputId": "5ead80cc-5036-4409-9718-887f493de3e7"
      },
      "execution_count": 3,
      "outputs": [
        {
          "output_type": "stream",
          "name": "stdout",
          "text": [
            "Scores: [66734.88170735 68087.11960386 69286.16524008 69044.25842025\n",
            " 68151.41312502 66488.60601254 74188.76873001 74137.7963351\n",
            " 77789.45007923 66034.53482109]\n",
            "\n",
            " Mean: 69994.29940745309\n",
            "\n",
            " Standard deviation: 3775.679219888163 \n",
            "\n"
          ]
        }
      ]
    }
  ]
}